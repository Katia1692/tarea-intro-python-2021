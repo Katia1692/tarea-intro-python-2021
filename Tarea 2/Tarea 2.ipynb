{
 "cells": [
  {
   "cell_type": "markdown",
   "metadata": {},
   "source": [
    "## Primera parte"
   ]
  },
  {
   "cell_type": "code",
   "execution_count": 8,
   "metadata": {},
   "outputs": [
    {
     "name": "stdout",
     "output_type": "stream",
     "text": [
      "['M1', 'M200', 'M17', 'M31', 'M87', 'M104']\n"
     ]
    }
   ],
   "source": [
    "list_messier=[\"M1\", \"M200\", \"M17\", \"M31\",\"M87\", \"M104\"]\n",
    "print(list_messier)"
   ]
  },
  {
   "cell_type": "code",
   "execution_count": 9,
   "metadata": {},
   "outputs": [
    {
     "name": "stdout",
     "output_type": "stream",
     "text": [
      "['M1', 'M200', 'M17', 'M31', 'M87', 'M104', 'M97']\n"
     ]
    }
   ],
   "source": [
    "list_messier.append(\"M97\")\n",
    "print(list_messier)"
   ]
  },
  {
   "cell_type": "code",
   "execution_count": 10,
   "metadata": {},
   "outputs": [
    {
     "name": "stdout",
     "output_type": "stream",
     "text": [
      "M17\n",
      "El tercer elemento de la lista esta en el puesto 2\n"
     ]
    }
   ],
   "source": [
    "print(list_messier[2])\n",
    "print(\"El tercer elemento de la lista esta en el puesto \"+ str(list_messier.index(\"M17\")))"
   ]
  },
  {
   "cell_type": "code",
   "execution_count": 11,
   "metadata": {},
   "outputs": [
    {
     "name": "stdout",
     "output_type": "stream",
     "text": [
      "M97\n"
     ]
    }
   ],
   "source": [
    "print(list_messier[-1])"
   ]
  },
  {
   "cell_type": "code",
   "execution_count": 12,
   "metadata": {},
   "outputs": [
    {
     "name": "stdout",
     "output_type": "stream",
     "text": [
      "['M200', 'M17', 'M31']\n"
     ]
    }
   ],
   "source": [
    "sub_list=list_messier[1:4]\n",
    "print(sub_list)"
   ]
  },
  {
   "cell_type": "code",
   "execution_count": 13,
   "metadata": {},
   "outputs": [
    {
     "name": "stdout",
     "output_type": "stream",
     "text": [
      "La lista 'list_messier' tiene: 7 elementos\n"
     ]
    }
   ],
   "source": [
    "print(\"La lista 'list_messier' tiene: \"+ str(len(list_messier))+\" elementos\")"
   ]
  },
  {
   "cell_type": "code",
   "execution_count": 14,
   "metadata": {},
   "outputs": [
    {
     "name": "stdout",
     "output_type": "stream",
     "text": [
      "M87 se encuentra en la lista\n"
     ]
    }
   ],
   "source": [
    "if \"M87\" in list_messier:\n",
    "    print(\"M87 se encuentra en la lista\")"
   ]
  },
  {
   "cell_type": "code",
   "execution_count": 15,
   "metadata": {},
   "outputs": [
    {
     "name": "stdout",
     "output_type": "stream",
     "text": [
      "['M1', 'NGC 205', 'M17', 'M31', 'M87', 'M104', 'M97']\n"
     ]
    }
   ],
   "source": [
    "list_messier[1]=\"NGC 205\"\n",
    "print(list_messier)"
   ]
  },
  {
   "cell_type": "code",
   "execution_count": 16,
   "metadata": {},
   "outputs": [
    {
     "name": "stdout",
     "output_type": "stream",
     "text": [
      "['M1', 'M7', 'NGC 205', 'M17', 'M31', 'M87', 'M104', 'M97']\n"
     ]
    }
   ],
   "source": [
    "list_messier.insert(1,\"M7\")\n",
    "print(list_messier)"
   ]
  },
  {
   "cell_type": "code",
   "execution_count": 17,
   "metadata": {},
   "outputs": [
    {
     "name": "stdout",
     "output_type": "stream",
     "text": [
      "['M1', 'M7', 'NGC 205', 'M17', 'M87', 'M104', 'M97']\n"
     ]
    }
   ],
   "source": [
    "list_messier.remove(\"M31\")\n",
    "print(list_messier)"
   ]
  },
  {
   "cell_type": "code",
   "execution_count": 18,
   "metadata": {},
   "outputs": [
    {
     "name": "stdout",
     "output_type": "stream",
     "text": [
      "['M7', 'NGC 205', 'M17', 'M87', 'M104', 'M97']\n"
     ]
    }
   ],
   "source": [
    "list_messier.pop(0)\n",
    "print(list_messier)"
   ]
  },
  {
   "cell_type": "code",
   "execution_count": 19,
   "metadata": {},
   "outputs": [
    {
     "name": "stdout",
     "output_type": "stream",
     "text": [
      "['M7', 'NGC 205', 'M17', 'M87', 'M97']\n"
     ]
    }
   ],
   "source": [
    "del list_messier[-2]\n",
    "print(list_messier)"
   ]
  },
  {
   "cell_type": "code",
   "execution_count": 20,
   "metadata": {},
   "outputs": [
    {
     "name": "stdout",
     "output_type": "stream",
     "text": [
      "[]\n"
     ]
    }
   ],
   "source": [
    "list_messier.clear()\n",
    "print(list_messier) #la lista aun existe, para eliminarla por completo debemos usar 'del'"
   ]
  },
  {
   "cell_type": "code",
   "execution_count": 23,
   "metadata": {},
   "outputs": [
    {
     "ename": "NameError",
     "evalue": "name 'list_messier' is not defined",
     "output_type": "error",
     "traceback": [
      "\u001b[1;31m---------------------------------------------------------------------------\u001b[0m",
      "\u001b[1;31mNameError\u001b[0m                                 Traceback (most recent call last)",
      "\u001b[1;32m<ipython-input-23-073dd6fc7e60>\u001b[0m in \u001b[0;36m<module>\u001b[1;34m\u001b[0m\n\u001b[1;32m----> 1\u001b[1;33m \u001b[1;32mdel\u001b[0m \u001b[0mlist_messier\u001b[0m\u001b[1;33m\u001b[0m\u001b[1;33m\u001b[0m\u001b[0m\n\u001b[0m",
      "\u001b[1;31mNameError\u001b[0m: name 'list_messier' is not defined"
     ]
    }
   ],
   "source": [
    "del list_messier\n",
    "#si intentamos llamar a la lista, no se encuestra porque no se encuentra definida"
   ]
  },
  {
   "cell_type": "markdown",
   "metadata": {},
   "source": [
    "## Segunda Parte\n",
    "\n",
    "### 1:"
   ]
  },
  {
   "cell_type": "code",
   "execution_count": 24,
   "metadata": {},
   "outputs": [],
   "source": [
    "list_masas=[3.302e23,4.8690e24,5.9742e24,6.4191e23,1.8987e27,5.6851e26,8.6849e25,1.0244e26]"
   ]
  },
  {
   "cell_type": "code",
   "execution_count": 25,
   "metadata": {},
   "outputs": [
    {
     "data": {
      "text/plain": [
       "1.8987e+27"
      ]
     },
     "execution_count": 25,
     "metadata": {},
     "output_type": "execute_result"
    }
   ],
   "source": [
    "max(list_masas) #maximo valor"
   ]
  },
  {
   "cell_type": "code",
   "execution_count": 26,
   "metadata": {},
   "outputs": [
    {
     "data": {
      "text/plain": [
       "3.302e+23"
      ]
     },
     "execution_count": 26,
     "metadata": {},
     "output_type": "execute_result"
    }
   ],
   "source": [
    "min(list_masas) #minimo valor"
   ]
  },
  {
   "cell_type": "code",
   "execution_count": 27,
   "metadata": {},
   "outputs": [
    {
     "data": {
      "text/plain": [
       "2.66831431e+27"
      ]
     },
     "execution_count": 27,
     "metadata": {},
     "output_type": "execute_result"
    }
   ],
   "source": [
    "sum(list_masas) #suma de valores de la lista"
   ]
  },
  {
   "cell_type": "code",
   "execution_count": 29,
   "metadata": {},
   "outputs": [
    {
     "name": "stdout",
     "output_type": "stream",
     "text": [
      "2.66831431e+27\n"
     ]
    }
   ],
   "source": [
    "def sumalista(list_masas):         #funcion para sumar cada elemento\n",
    "    total_masas = 0\n",
    "    for i in list_masas:\n",
    "        total_masas = total_masas + i\n",
    "    return total_masas\n",
    "\n",
    "print(sumalista(list_masas))      #se confirma que da el mismo valor"
   ]
  },
  {
   "cell_type": "code",
   "execution_count": 30,
   "metadata": {},
   "outputs": [
    {
     "name": "stdout",
     "output_type": "stream",
     "text": [
      "El porcentaje es: \n",
      "0.1334157155\n"
     ]
    }
   ],
   "source": [
    "masa_solar= 2e30\n",
    "total_masas=2.66831431e+27\n",
    "porcentaje= (100*total_masas)/masa_solar\n",
    "print(\"El porcentaje es: \")\n",
    "print(porcentaje)"
   ]
  },
  {
   "cell_type": "markdown",
   "metadata": {},
   "source": [
    "### 2:"
   ]
  },
  {
   "cell_type": "code",
   "execution_count": 33,
   "metadata": {},
   "outputs": [],
   "source": [
    "dic_masas = {\"Mercurio\" : 3.302e23, \"Venus\" : 4.8690e24, \"Tierra\": 5.9742e24, \"Marte\":6.4191e23,\"jupiter\": 1.8987e27,\"Saturno\":5.6851e26,\"Urano\": 8.6849e25,\"Neptuno\":1.0244e26}"
   ]
  },
  {
   "cell_type": "code",
   "execution_count": 72,
   "metadata": {},
   "outputs": [
    {
     "name": "stdout",
     "output_type": "stream",
     "text": [
      "Mercurio\n",
      "Venus\n",
      "Tierra\n",
      "Marte\n",
      "jupiter\n",
      "Saturno\n",
      "Urano\n",
      "Neptuno\n"
     ]
    }
   ],
   "source": [
    "for i in dic_masas:\n",
    "    print(i)"
   ]
  },
  {
   "cell_type": "markdown",
   "metadata": {},
   "source": [
    "## 3:"
   ]
  },
  {
   "cell_type": "code",
   "execution_count": 73,
   "metadata": {},
   "outputs": [
    {
     "name": "stdout",
     "output_type": "stream",
     "text": [
      "Mercurio\n",
      "Venus\n",
      "Tierra\n",
      "Marte\n",
      "jupiter\n",
      "Saturno\n",
      "Urano\n",
      "Neptuno\n"
     ]
    }
   ],
   "source": [
    "i= 0\n",
    "masas = list(dic_masas.keys())\n",
    "while i < len(masas):\n",
    "    print(list(dic_masas.keys())[i])\n",
    "    i=i+1"
   ]
  },
  {
   "cell_type": "markdown",
   "metadata": {},
   "source": [
    "## 4:"
   ]
  },
  {
   "cell_type": "code",
   "execution_count": 75,
   "metadata": {},
   "outputs": [
    {
     "name": "stdout",
     "output_type": "stream",
     "text": [
      "1.651e-05\n",
      "0.00024345\n",
      "0.00029871\n",
      "3.20955e-05\n",
      "0.09493499999999999\n",
      "0.028425500000000003\n",
      "0.0043424499999999994\n",
      "0.005122\n"
     ]
    }
   ],
   "source": [
    "values= dic_masas.values()\n",
    "for i in values:\n",
    "    division = (i/masa_solar) *100\n",
    "    print(division)"
   ]
  },
  {
   "cell_type": "markdown",
   "metadata": {},
   "source": [
    "## 5:"
   ]
  },
  {
   "cell_type": "code",
   "execution_count": 76,
   "metadata": {},
   "outputs": [
    {
     "name": "stdout",
     "output_type": "stream",
     "text": [
      "2.66831431e+27\n"
     ]
    }
   ],
   "source": [
    "total_masas = 0\n",
    "for i in values:\n",
    "    total_masas = total_masas + i\n",
    "print (total_masas)\n",
    "   "
   ]
  },
  {
   "cell_type": "code",
   "execution_count": 77,
   "metadata": {},
   "outputs": [
    {
     "name": "stdout",
     "output_type": "stream",
     "text": [
      "2.66831431e+27\n"
     ]
    }
   ],
   "source": [
    "print(total_masas)"
   ]
  },
  {
   "cell_type": "code",
   "execution_count": 82,
   "metadata": {},
   "outputs": [],
   "source": [
    "archivo=open(\"suma_masas.txt\",\"w\")\n",
    "archivo.write(\"La suma de masas es 2.66831431e+27\")\n",
    "archivo.close()"
   ]
  },
  {
   "cell_type": "code",
   "execution_count": null,
   "metadata": {},
   "outputs": [],
   "source": []
  }
 ],
 "metadata": {
  "kernelspec": {
   "display_name": "Python 3",
   "language": "python",
   "name": "python3"
  },
  "language_info": {
   "codemirror_mode": {
    "name": "ipython",
    "version": 3
   },
   "file_extension": ".py",
   "mimetype": "text/x-python",
   "name": "python",
   "nbconvert_exporter": "python",
   "pygments_lexer": "ipython3",
   "version": "3.8.5"
  }
 },
 "nbformat": 4,
 "nbformat_minor": 4
}
