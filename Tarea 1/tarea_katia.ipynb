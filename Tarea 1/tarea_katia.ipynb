{
 "cells": [
  {
   "cell_type": "code",
   "execution_count": 1,
   "metadata": {},
   "outputs": [
    {
     "name": "stdout",
     "output_type": "stream",
     "text": [
      "Hola Mundo\n"
     ]
    }
   ],
   "source": [
    "print(\"Hola Mundo\")"
   ]
  },
  {
   "cell_type": "code",
   "execution_count": 2,
   "metadata": {},
   "outputs": [],
   "source": [
    "nombre= \"Katia\"\n",
    "edad= 28\n",
    "pais= \"Costa Rica\""
   ]
  },
  {
   "cell_type": "code",
   "execution_count": 3,
   "metadata": {},
   "outputs": [
    {
     "name": "stdout",
     "output_type": "stream",
     "text": [
      "Mi nombre es Katia tengo 28 y soy de Costa Rica\n"
     ]
    }
   ],
   "source": [
    "print(\"Mi nombre es \"+ nombre + \" tengo \" + str(edad) +  \" y soy de \" + pais)"
   ]
  },
  {
   "cell_type": "code",
   "execution_count": 4,
   "metadata": {},
   "outputs": [
    {
     "name": "stdout",
     "output_type": "stream",
     "text": [
      "Las variables nombre y pais son strings mientras que edad es un int\n"
     ]
    }
   ],
   "source": [
    "print(\"Las variables nombre y pais son strings mientras que edad es un int\")"
   ]
  },
  {
   "cell_type": "code",
   "execution_count": 5,
   "metadata": {},
   "outputs": [
    {
     "name": "stdout",
     "output_type": "stream",
     "text": [
      "En astronomía, la clasificación estelar \n",
      "es la clasificación de las estrellas en \n",
      "función de sus características espectrales.\n"
     ]
    }
   ],
   "source": [
    "print (\"En astronomía, la clasificación estelar \\nes la clasificación de las estrellas en \\nfunción de sus características espectrales.\")"
   ]
  },
  {
   "cell_type": "code",
   "execution_count": 6,
   "metadata": {},
   "outputs": [
    {
     "name": "stdout",
     "output_type": "stream",
     "text": [
      "Hipergigantes---Subgigantes---Secuencia principal*"
     ]
    }
   ],
   "source": [
    "print (\"Hipergigantes\", \"Subgigantes\", \"Secuencia principal\",sep=\"---\",end=\"*\")"
   ]
  },
  {
   "cell_type": "code",
   "execution_count": 7,
   "metadata": {},
   "outputs": [
    {
     "name": "stdout",
     "output_type": "stream",
     "text": [
      "La masa de Jupiter es  1.8978244274809163e+27 kilogramos.\n"
     ]
    }
   ],
   "source": [
    "m_solar= 1.98892*10**30 #kg\n",
    "m_jupiter= m_solar / 1048 #kg\n",
    "print(f\"La masa de Jupiter es  {m_jupiter} kilogramos.\")"
   ]
  },
  {
   "cell_type": "code",
   "execution_count": 8,
   "metadata": {},
   "outputs": [
    {
     "name": "stdout",
     "output_type": "stream",
     "text": [
      "False\n",
      "False\n",
      "True\n",
      "True\n",
      "True\n"
     ]
    }
   ],
   "source": [
    "AU=149597870700\n",
    "mercurio = 1 < 0.389 \n",
    "venus = 1 < 0.723 \n",
    "marte = 1 < 1.524 \n",
    "jupiter = 1 < 5.203 \n",
    "saturno = 1 < 9.537 \n",
    "\n",
    "if mercurio == True:\n",
    "    print(\"True\")\n",
    "else:\n",
    "    print(\"False\")\n",
    "    \n",
    "if venus == True:\n",
    "    print(\"True\")\n",
    "else:\n",
    "    print(\"False\")\n",
    "    \n",
    "if marte == True:\n",
    "    print(\"True\")\n",
    "else:\n",
    "    print(\"False\")\n",
    "    \n",
    "if jupiter == True:\n",
    "    print(\"True\")\n",
    "else:\n",
    "    print(\"False\")\n",
    "    \n",
    "if saturno == True:\n",
    "    print(\"True\")\n",
    "else:\n",
    "    print(\"False\")"
   ]
  },
  {
   "cell_type": "code",
   "execution_count": null,
   "metadata": {},
   "outputs": [],
   "source": []
  }
 ],
 "metadata": {
  "kernelspec": {
   "display_name": "Python 3",
   "language": "python",
   "name": "python3"
  },
  "language_info": {
   "codemirror_mode": {
    "name": "ipython",
    "version": 3
   },
   "file_extension": ".py",
   "mimetype": "text/x-python",
   "name": "python",
   "nbconvert_exporter": "python",
   "pygments_lexer": "ipython3",
   "version": "3.8.5"
  }
 },
 "nbformat": 4,
 "nbformat_minor": 4
}
